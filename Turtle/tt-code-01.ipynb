{
 "cells": [
  {
   "cell_type": "code",
   "execution_count": null,
   "id": "89ee223b-8bf7-4af4-a6ca-5628fa0ea0c9",
   "metadata": {},
   "outputs": [],
   "source": [
    "# date: 2021-10-09\n",
    "# import turtle as tt\n",
    "import mobilechelonian.Turtle as tt\n",
    "#\n",
    "win = tt.Screen()\n",
    "win.setup(400,300)\n",
    "tt.setposition(0,0)\n",
    "tt.setheading(90)\n",
    "# tt.color('green')\n",
    "for i in (1,2,3,4):\n",
    "    if (i % 2) == 0:\n",
    "        tt.color('green')\n",
    "    else :\n",
    "        tt.color('red')\n",
    "    # end if\n",
    "    tt.forward(50)\n",
    "    tt.left(90)\n",
    "    tt.setposition(0,0)\n",
    "# end for\n",
    "# win.mainloop()"
   ]
  },
  {
   "cell_type": "code",
   "execution_count": null,
   "id": "cfc41ebc-a95b-4687-abb8-ed1d08e5f23c",
   "metadata": {},
   "outputs": [],
   "source": []
  }
 ],
 "metadata": {
  "kernelspec": {
   "display_name": "Python 3 (ipykernel)",
   "language": "python",
   "name": "python3"
  },
  "language_info": {
   "codemirror_mode": {
    "name": "ipython",
    "version": 3
   },
   "file_extension": ".py",
   "mimetype": "text/x-python",
   "name": "python",
   "nbconvert_exporter": "python",
   "pygments_lexer": "ipython3",
   "version": "3.7.10"
  }
 },
 "nbformat": 4,
 "nbformat_minor": 5
}

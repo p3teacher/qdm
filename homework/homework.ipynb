{
 "cells": [
  {
   "cell_type": "markdown",
   "id": "7c78f211-e8f4-4a98-99a6-e2e11d6280d6",
   "metadata": {},
   "source": [
    "作業一: 請寫一程式繪出下列圖形?\n",
    "*\n",
    "**\n",
    "***\n",
    "****\n",
    "*****"
   ]
  },
  {
   "cell_type": "markdown",
   "id": "6a0ff691-b366-4f9e-9f64-cd30129ffdfb",
   "metadata": {
    "tags": []
   },
   "source": [
    "作業二: 請寫一程式繪出下列圖形?\n",
    "1\n",
    "22\n",
    "333\n",
    "4444\n",
    "55555"
   ]
  },
  {
   "cell_type": "markdown",
   "id": "10456751-f113-4558-8c0d-80a88d4cc3c8",
   "metadata": {
    "tags": []
   },
   "source": [
    "作業三: 如果a，b和c是三角形的三個邊，請計算三角形的面積。 請上傳寫好的 .py 程式\n",
    "\n",
    "請參考海龍公式: 設∆ABC 的三邊長分別為 a, b, c，且 s = (a + b + c)/2，\n",
    "則∆ABC的面積 = $\\sqrt{(s - a)(s - b)(s - c)}$"
   ]
  },
  {
   "cell_type": "markdown",
   "id": "7c443485-6af1-4270-86cd-9e25a38481d6",
   "metadata": {},
   "source": [
    "#作業四: \n",
    "方程式 $𝑎𝑥^2+𝑏𝑥+𝑐=0$ \n",
    "\n",
    "其中 a，b和c是實數 a≠0 求 x 的二個根，各為多少? \n",
    "請上傳寫好的 .py 程式"
   ]
  }
 ],
 "metadata": {
  "kernelspec": {
   "display_name": "Python 3",
   "language": "python",
   "name": "python3"
  },
  "language_info": {
   "codemirror_mode": {
    "name": "ipython",
    "version": 3
   },
   "file_extension": ".py",
   "mimetype": "text/x-python",
   "name": "python",
   "nbconvert_exporter": "python",
   "pygments_lexer": "ipython3",
   "version": "3.7.10"
  }
 },
 "nbformat": 4,
 "nbformat_minor": 5
}

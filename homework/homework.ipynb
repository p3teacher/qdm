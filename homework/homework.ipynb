{
 "cells": [
  {
   "cell_type": "code",
   "execution_count": null,
   "id": "69cee218-aaf2-47d0-a84a-aeb96989b32c",
   "metadata": {},
   "outputs": [],
   "source": [
    "作業一: 請寫一程式繪出下列圖形?\n",
    "*\n",
    "**\n",
    "***\n",
    "****\n",
    "*****"
   ]
  },
  {
   "cell_type": "code",
   "execution_count": 1,
   "id": "922d9334-d0ad-4c12-931c-78682700d355",
   "metadata": {},
   "outputs": [
    {
     "name": "stdout",
     "output_type": "stream",
     "text": [
      "*\n",
      "**\n",
      "***\n",
      "****\n",
      "*****\n"
     ]
    }
   ],
   "source": [
    "# 茄萣國中 Python社團\n",
    "# 作業一: \n",
    "# 姓名 : \n",
    "# date : 110-09-14\n",
    "#\n",
    "for i in ( 1,2,3,4,5) :\n",
    "    print(i*'*')\n",
    "# end for"
   ]
  },
  {
   "cell_type": "code",
   "execution_count": null,
   "id": "ad295740-b0b0-4ef2-a110-4848d9228743",
   "metadata": {
    "tags": []
   },
   "outputs": [],
   "source": [
    "作業二: 請寫一程式繪出下列圖形?\n",
    "1\n",
    "22\n",
    "333\n",
    "4444\n",
    "55555"
   ]
  },
  {
   "cell_type": "code",
   "execution_count": 2,
   "id": "b85e0744-60cd-4edb-b068-e7e7d58619cd",
   "metadata": {},
   "outputs": [
    {
     "name": "stdout",
     "output_type": "stream",
     "text": [
      "1\n",
      "22\n",
      "333\n",
      "4444\n",
      "55555\n"
     ]
    }
   ],
   "source": [
    "# 茄萣國中 Python社團\n",
    "# 作業二: \n",
    "# 姓名 : \n",
    "# date : 110-09-14\n",
    "#\n",
    "for i in ( 1,2,3,4,5) :\n",
    "    print(i*str(i))\n",
    "# end for"
   ]
  },
  {
   "cell_type": "markdown",
   "id": "3d495177-0d75-4148-a795-9784ec2480fb",
   "metadata": {
    "tags": []
   },
   "source": [
    "#### 作業三: 如果a，b和c是三角形的三個邊，請計算三角形的面積。\n",
    "\n",
    "請參考海龍公式: 設∆ABC 的三邊長分別為 a, b, c，且 s = (a + b + c)/2，\n",
    "\n",
    "則∆ABC的面積 = $\\sqrt{s(s - a)(s - b)(s - c)}$\n",
    "\n",
    " 請上傳寫好的 .py 程式"
   ]
  },
  {
   "cell_type": "code",
   "execution_count": 6,
   "id": "08c66d00-209f-4ba9-a221-29bc7110ea0a",
   "metadata": {},
   "outputs": [
    {
     "name": "stdout",
     "output_type": "stream",
     "text": [
      "∆ABC的面積= 6.0\n"
     ]
    }
   ],
   "source": [
    "# 茄萣國中 Python社團\n",
    "# 作業三: \n",
    "# 姓名 : \n",
    "# date : 110-09-14\n",
    "#\n",
    "import math\n",
    "a = 3\n",
    "b = 4\n",
    "c = 5\n",
    "s = (a+b+c)/2\n",
    "area = math.sqrt(s*(s-a)*(s-b)*(s-c))\n",
    "print('∆ABC的面積=', area)"
   ]
  },
  {
   "cell_type": "markdown",
   "id": "6213f51a-ec48-48c5-b5cf-8a44b6c9c928",
   "metadata": {},
   "source": [
    "#### 作業四:\n",
    "方程式 $𝑎𝑥^2+𝑏𝑥+𝑐=0$ \n",
    "\n",
    "其中 a，b和c是實數 a≠0 求 x 的二個根，各為多少? \n",
    "\n",
    "請上傳寫好的 .py 程式"
   ]
  },
  {
   "cell_type": "code",
   "execution_count": 3,
   "id": "92a450f5-a3bd-4214-bff9-554516c6caca",
   "metadata": {},
   "outputs": [
    {
     "name": "stdout",
     "output_type": "stream",
     "text": [
      "判別式Q > 0, x有2個解  x1= -7.37965517747563  x2= -30.870344822524373\n"
     ]
    }
   ],
   "source": [
    "# 茄萣國中 Python社團\n",
    "# 作業四: \n",
    "# 姓名 : \n",
    "# date : 110-09-14\n",
    "# 判別式 Q = b*b - 4*a*c\n",
    "# 公式 x1=(-b+math.sqrt(Q))/2*a    # math.sqrt(x)開平方根\n",
    "# 公式 x2=(-b-math.sqrt(Q))/2*a\n",
    "#\n",
    "import math\n",
    "a = 4.5\n",
    "b = 8.5\n",
    "c = 2.5\n",
    "Q = b*b - 4*a*c\n",
    "#\n",
    "if Q > 0:\n",
    "    x1=(-b+math.sqrt(Q))/2*a\n",
    "    x2=(-b-math.sqrt(Q))/2*a\n",
    "    print('判別式Q > 0, x有2個解 ', 'x1=',x1, ' x2=', x2)\n",
    "# end if\n",
    "if Q == 0:\n",
    "    x1=-b/2*a\n",
    "    print('判別式Q = 0, x有1個解 ', 'x1=',x1)\n",
    "# end if\n",
    "if Q < 0:\n",
    "    print('判別式Q < 0, 方程無解')\n",
    "# end if"
   ]
  },
  {
   "cell_type": "markdown",
   "id": "e7a52a6d-b66a-4a46-b484-7f544d390b8e",
   "metadata": {},
   "source": [
    "#### 作業四A: 繪製拋物線\n",
    "拋物線方程式 $y=𝑎𝑥^2+𝑏𝑥+𝑐$  \n",
    "\n",
    "其中 a，b和c是實數 a≠0  \n",
    "\n",
    "請上傳寫好的 .py 程式"
   ]
  },
  {
   "cell_type": "code",
   "execution_count": 17,
   "id": "d86f8684-a32b-4414-a8a5-6a3789c806ea",
   "metadata": {},
   "outputs": [
    {
     "name": "stdout",
     "output_type": "stream",
     "text": [
      "the python version is 3.7.10\n"
     ]
    },
    {
     "data": {
      "image/png": "[encoded data removed]",
      "text/plain": [
       "<Figure size 396.85x396.85 with 1 Axes>"
      ]
     },
     "metadata": {
      "needs_background": "light"
     },
     "output_type": "display_data"
    }
   ],
   "source": [
    "# 繪製的思路是從拋物線上採樣 1000 個點，這 1000 個點連成的函數圖像就平滑了許多。\n",
    "#\n",
    "# 茄萣國中 Python社團\n",
    "# 作業四A: 繪製拋物線\n",
    "# 姓名 : \n",
    "# date : 110-09-14\n",
    "# 判別式 Q = b*b - 4*a*c\n",
    "# 公式 x1=(-b+math.sqrt(Q))/2*a    # math.sqrt(x)開平方根\n",
    "# 公式 x2=(-b-math.sqrt(Q))/2*a\n",
    "#\n",
    "# python 3.8.10\n",
    "# run on replit.com\n",
    "#\n",
    "# python 3.9.1\n",
    "# run on miniconda 3 JupyterLab\n",
    "#\n",
    "# 要執行本程式, 請按上方run▶\n",
    "#\n",
    "# to fix matplotlib warning\n",
    "import os\n",
    "os.environ['MPLCONFIGDIR'] = os.getcwd() + \"/configs/\"\n",
    "#\n",
    "from platform import python_version\n",
    "print('the python version is',python_version())\n",
    "#\n",
    "import numpy as np\n",
    "# 載入繪圖模組 pyplot, 重新命名為 plot\n",
    "import matplotlib.pyplot as plt\n",
    "#\n",
    "from shapely import affinity\n",
    "from shapely.geometry  import LineString\n",
    "#\n",
    "# ---------------------------------------------\n",
    "#\n",
    "def set_graphic_area(width,height) :\n",
    "        \n",
    "    cm2inch = 1/2.54    # inch per cm\n",
    "    #\n",
    "    # define graphic area\n",
    "    #\n",
    "    left_margin = 1.0   # cm\n",
    "    right_margin = 1.0  # cm\n",
    "    #\n",
    "    figure_width  = width  # cm , from xmin to xmax\n",
    "    figure_height = height # cm , from ymin to ymax\n",
    "    #\n",
    "    top_margin = 1.0    # cm\n",
    "    bottom_margin = 1.0 # cm\n",
    "    #\n",
    "    box_width = left_margin + figure_width + right_margin   # cm\n",
    "    box_height = top_margin + figure_height + bottom_margin # cm\n",
    "    #\n",
    "    top_value    = 1.0 - top_margin / box_height\n",
    "    bottom_value = bottom_margin / box_height\n",
    "    left_value   = left_margin / box_width\n",
    "    right_value  = 1.0 - right_margin / box_width\n",
    "    #\n",
    "    return (box_width*cm2inch,box_height*cm2inch,top_value,bottom_value,left_value,right_value,width)\n",
    "#\n",
    "# end of def\n",
    "#\n",
    "# ------------------------------------------------------------------------------------------------\n",
    "#\n",
    "# tup7 is type of Tuple, have 7 indexed value\n",
    "#\n",
    "tup7 = set_graphic_area(12, 12)  \n",
    "fig = plt.figure(figsize=(tup7[0], tup7[1])) # 呼叫 pyplot.figure(), 建立一個圖表物件, 並成為目前圖表物件\n",
    "ax = fig.add_subplot(1,1,1)   # 圖表的繪圖區域被分為1個子圖, 1 row, 1 column, plot to index 1\n",
    "fig.subplots_adjust(\n",
    "                top    = tup7[2] ,\n",
    "                bottom = tup7[3] ,\n",
    "                left   = tup7[4] ,\n",
    "                right  = tup7[5] ,\n",
    "                )\n",
    "#\n",
    "plt.xlim(-tup7[6]/2, tup7[6]/2)    # 設定X軸的顯示範圍, from xmin to xmax\n",
    "plt.ylim(-4, 8)    # 設定Y軸的顯示範圍, from ymin to ymax\n",
    "#\n",
    "xvalues = [-6,-4,-2,0,2,4,6]\n",
    "yvalues = [-4,-2,0,2,4,6,8]\n",
    "plt.xticks(xvalues)\n",
    "plt.yticks(yvalues)\n",
    "plt.tick_params(labelsize=10)\n",
    "#\n",
    "plt.grid(True)\n",
    "ax.set_axis_on()    # will turn on  grid line\n",
    "# ax.set_axis_off() # will turn off grid line\n",
    "#\n",
    "# get current axes, set X,Y same ratio & scale  \n",
    "plt.gca().set_aspect('equal', adjustable='box')\n",
    "#\n",
    "plt.savefig(\"./png/para_curve_0.png\",format=\"png\",dpi=150)\n",
    "#\n",
    "def set_xy(a, b, c, x_start, x_end, num_points) :\n",
    "    XS = np.linspace(x_start, x_end, num_points)\n",
    "    YS = [a*ix*ix + b*ix + c for ix in XS]\n",
    "    return XS, YS\n",
    "# end def\n",
    "\n",
    "xs, ys = set_xy(1,-2,-2,-5,5,1000)\n",
    "ax.plot(xs, ys, color='blue', alpha=1.0, linewidth=1.0, solid_capstyle='round', zorder=10)\n",
    "#\n",
    "plt.savefig(\"./png/para_curve_1.png\",format=\"png\",dpi=150)\n",
    "#"
   ]
  },
  {
   "cell_type": "code",
   "execution_count": null,
   "id": "5694a40a-ecbb-425d-9733-96f4077a3d84",
   "metadata": {},
   "outputs": [],
   "source": [
    "作業五: 溫度轉換\n",
    "\n",
    "請將攝氏溫度轉換為華氏溫度。\n",
    "請將華氏溫度轉換為攝氏溫度。\n",
    "公式：\n",
    "攝氏* 1.8 = 華氏度-32\n",
    "(請上傳寫好的 .py 程式)"
   ]
  },
  {
   "cell_type": "code",
   "execution_count": 8,
   "id": "d8d96a24-e680-4612-8984-4edddd1592ea",
   "metadata": {},
   "outputs": [
    {
     "name": "stdout",
     "output_type": "stream",
     "text": [
      "攝氏溫度 100 ,轉換為華氏溫度是 212.0\n",
      "華氏溫度 100 ,轉換為攝氏溫度是  37.77777777777778\n"
     ]
    }
   ],
   "source": [
    "# 茄萣國中 Python社團\n",
    "# 作業五: \n",
    "# 姓名 : \n",
    "# date : 110-09-14\n",
    "#\n",
    "import math\n",
    "C_temperature = 100\n",
    "F_temperature = 32 + C_temperature *1.8\n",
    "print('攝氏溫度', C_temperature, ',轉換為華氏溫度是', F_temperature)\n",
    "F_temperature = 100\n",
    "print('華氏溫度', F_temperature, ',轉換為攝氏溫度是 ', (F_temperature-32)/1.8)"
   ]
  },
  {
   "cell_type": "markdown",
   "id": "edbdb248-a84e-4464-9ee6-03e24fdbc525",
   "metadata": {},
   "source": [
    "#### 作業六: 請寫一程式印出九九乘法表\n",
    "\n",
    "輸出:( 輸出圖形見下圖)\n",
    "\n",
    "![九九乘法表](9x9.jpg)"
   ]
  },
  {
   "cell_type": "code",
   "execution_count": 24,
   "id": "b1318bd1-e073-4583-b3df-0989c9c4a706",
   "metadata": {},
   "outputs": [
    {
     "name": "stdout",
     "output_type": "stream",
     "text": [
      "  1  2  3  4  5  6  7  8  9\n",
      "  2  4  6  8 10 12 14 16 18\n",
      "  3  6  9 12 15 18 21 24 27\n",
      "  4  8 12 16 20 24 28 32 36\n",
      "  5 10 15 20 25 30 35 40 45\n",
      "  6 12 18 24 30 36 42 48 54\n",
      "  7 14 21 28 35 42 49 56 63\n",
      "  8 16 24 32 40 48 56 64 72\n",
      "  9 18 27 36 45 54 63 72 81\n"
     ]
    }
   ],
   "source": [
    "# 茄萣國中 Python社團\n",
    "# 作業六: \n",
    "# 姓名 : \n",
    "# date : 110-09-14\n",
    "#\n",
    "for i in (1,2,3,4,5,6,7,8,9) :\n",
    "    list_99 = ['{0:3}'.format(i*y) for y in range(1, 10)]\n",
    "    item_for_print =\"\"\n",
    "    for item in list_99 :\n",
    "        item_for_print = item_for_print + item\n",
    "    # end for\n",
    "    print(item_for_print)\n",
    "# end for\n"
   ]
  },
  {
   "cell_type": "code",
   "execution_count": null,
   "id": "efa779ba-eee5-4645-82ac-bb07935d0cca",
   "metadata": {},
   "outputs": [],
   "source": [
    "作業七: 請寫一程式印出印出1000以內的費式數列\n",
    "(請上傳寫好的 .py 程式)\n",
    "輸出:\n",
    "0 1 1 2 3 5 8 13 21 34 55 89 144 233 377 610 987"
   ]
  },
  {
   "cell_type": "code",
   "execution_count": 29,
   "id": "32858348-6f06-424d-93ef-b79c68347dcb",
   "metadata": {},
   "outputs": [
    {
     "name": "stdin",
     "output_type": "stream",
     "text": [
      " 17\n"
     ]
    },
    {
     "name": "stdout",
     "output_type": "stream",
     "text": [
      "0 1 1 2 3 5 8 13 21 34 55 89 144 233 377 610 987 "
     ]
    }
   ],
   "source": [
    "# 茄萣國中 Python社團\n",
    "# 作業七: \n",
    "# 姓名 : \n",
    "# date : 110-09-14\n",
    "#\n",
    "def compute(n):\n",
    "    if n < 2:\n",
    "        return n\n",
    "    else:\n",
    "        return compute(n-1)+compute(n-2) #某一項數字是其前兩項的和\n",
    "    # end if\n",
    "# end def\n",
    "#\n",
    "# try number 17\n",
    "num = int( input() )\n",
    "for i in range(num):\n",
    "    print( compute(i),end=' ') #每個數值後方為一個半形空格"
   ]
  },
  {
   "cell_type": "code",
   "execution_count": null,
   "id": "c3baf505-a5f4-4277-9b40-1589e3964f41",
   "metadata": {},
   "outputs": [],
   "source": [
    "作業八:猜數字遊戲\n",
    "(請上傳寫好的 .py 程式)\n",
    "請寫一程式進行猜數字遊戲，被猜的數字由亂數產生 1~100 的數，\n",
    "如果太大就印出太大，如果太小，就印出太小，繼續再猜數字，直到猜對為止，並印出猜了幾次。\n",
    "每猜對猜完一次，要問遊戲者要不要繼續猜，如果要繼續玩就按 Y，不要就按 N，將程式修正得更為完美。"
   ]
  },
  {
   "cell_type": "code",
   "execution_count": null,
   "id": "8a80ca37-9893-4df6-9d5a-ce3c35f23cb7",
   "metadata": {},
   "outputs": [],
   "source": [
    "作業九: 兩個數求這兩個數的最大公因數 GCD\n",
    "輸入兩個數求這兩個數的最大公因數 GCD\n",
    "\n",
    "輸入:\n",
    "x=12 \n",
    "y=18\n",
    "\n",
    "輸出:\n",
    "GCD= 6"
   ]
  },
  {
   "cell_type": "code",
   "execution_count": null,
   "id": "93638c53-9ccd-4caf-a73d-57763f2b02b0",
   "metadata": {},
   "outputs": [],
   "source": [
    "作業十: 寫一個程式能夠將十進制轉成二進制\n",
    "\n",
    "輸入:\n",
    "十進制=11\n",
    "\n",
    "輸出:\n",
    "二進制=1011"
   ]
  },
  {
   "cell_type": "code",
   "execution_count": null,
   "id": "20253a17-26a9-4101-b03a-d065ffadb26c",
   "metadata": {},
   "outputs": [],
   "source": [
    "作業十二: 字元串列處理\n",
    "\n",
    "請建立一程式，在輸入一個字串後，將字元串列中索引為奇數的字元抽出來另建立一個新字串，最後顯示字串內容\n",
    "\n",
    "原字串\"jerome\"\n",
    "新字串為\"eoe\""
   ]
  },
  {
   "cell_type": "code",
   "execution_count": null,
   "id": "808dd24d-d84c-42ef-a21b-b98aa271fd03",
   "metadata": {},
   "outputs": [],
   "source": [
    "作業十三: 自訂函數 \n",
    "\n",
    "請建立arrayMax(n)函數傳入整數陣列，要用自訂函數 def arrayMax(n) ，傳回值是陣列元素的最大值，\n",
    "\n",
    "程式可以讓使用者輸入5個範圍1~100的數字，在存入陣列後，找到陣列的最大值。"
   ]
  },
  {
   "cell_type": "markdown",
   "id": "30a3f05a-d000-44dd-a4ca-44b71b2cb141",
   "metadata": {},
   "source": [
    "#### 作業十八: (課本習題-實作題 5-5-2-3) 解一元二次方程式的判別式\n",
    "\n",
    "請撰寫一程式，將使用者輸入的三個整數（代表一元二次方程式 ${ax^2+bx+c=0}$ 的三個係數a、b、c）\n",
    "\n",
    "然後判斷 Q = ${b^2 -4ac}$ 是否有解"
   ]
  },
  {
   "cell_type": "code",
   "execution_count": 8,
   "id": "093392d1-ff6e-4abb-8a84-62bf7b82e930",
   "metadata": {},
   "outputs": [
    {
     "name": "stdout",
     "output_type": "stream",
     "text": [
      "輸入整數 a\n"
     ]
    },
    {
     "name": "stdin",
     "output_type": "stream",
     "text": [
      " 6\n"
     ]
    },
    {
     "name": "stdout",
     "output_type": "stream",
     "text": [
      "a = 6\n",
      "輸入整數 b\n"
     ]
    },
    {
     "name": "stdin",
     "output_type": "stream",
     "text": [
      " 8\n"
     ]
    },
    {
     "name": "stdout",
     "output_type": "stream",
     "text": [
      "b = 8\n",
      "輸入整數 c\n"
     ]
    },
    {
     "name": "stdin",
     "output_type": "stream",
     "text": [
      " 4\n"
     ]
    },
    {
     "name": "stdout",
     "output_type": "stream",
     "text": [
      "c = 4\n",
      "\n",
      "判別式Q=b*b-4*a*c= 27.25\n",
      "判別式Q > 0, x有2個解\n",
      "x1= -7.37965517747563  x2= -30.870344822524373\n"
     ]
    }
   ],
   "source": [
    "# 茄萣國中 Python社團\n",
    "# 作業十八: \n",
    "# 姓名 : \n",
    "# date : 110-09-14\n",
    "#\n",
    "print('輸入整數 a')\n",
    "print('a =', input())\n",
    "print('輸入整數 b')\n",
    "print('b =', input())\n",
    "print('輸入整數 c')\n",
    "print('c =', input())\n",
    "print()\n",
    "#\n",
    "Q = b*b - 4*a*c\n",
    "print('判別式Q=b*b-4*a*c=', Q)\n",
    "#\n",
    "if Q > 0:\n",
    "    x1=(-b+math.sqrt(Q))/2*a\n",
    "    x2=(-b-math.sqrt(Q))/2*a\n",
    "    print('判別式Q > 0, x有2個解')\n",
    "    print('x1=',x1, ' x2=', x2)\n",
    "# end if\n",
    "if Q == 0:\n",
    "    x1=-b/2*a\n",
    "    print('判別式Q = 0, x有1個解')\n",
    "    print('x1=',x1)\n",
    "# end if\n",
    "if Q < 0:\n",
    "    print('判別式Q < 0, 方程無解')\n",
    "# end if"
   ]
  },
  {
   "cell_type": "code",
   "execution_count": null,
   "id": "a0d4a492-c021-489b-afdc-f4fe1663ae47",
   "metadata": {},
   "outputs": [],
   "source": [
    "作業二十六: (課本習題-實作題 5-5-2-2) 繞赤道一圈需要多少小時?\n",
    "\n",
    "地球赤道繞一圈的長度是40076公里，如果搭乘一架時速460英哩的飛機，繞赤道一圈需要多少小時？\n",
    "如果要在24小時內繞地球赤道一圈，飛機最低時速應該多少英哩。\n",
    "請建立一個Python程式來計算解答。(提示：1公里=0.623英哩)"
   ]
  },
  {
   "cell_type": "code",
   "execution_count": 2,
   "id": "8dea8565-fa5b-45dc-bea3-3102206ec060",
   "metadata": {},
   "outputs": [
    {
     "name": "stdout",
     "output_type": "stream",
     "text": [
      "飛機時速460英哩\n",
      "繞赤道一圈需要 541.8420608695652 小時\n",
      "\n",
      "飛機最低時速 10386 英哩\n",
      "可在24小時內繞地球赤道一圈\n"
     ]
    }
   ],
   "source": [
    "# 茄萣國中 Python社團\n",
    "# 作業二十六: \n",
    "# 姓名 : \n",
    "# date : 110-09-14\n",
    "#\n",
    "#        1 km =          0.623 mile\n",
    "# 400076*1 km = 400076 * 0.623 mile\n",
    "#\n",
    "plane_speed_hr = 460 # mile\n",
    "equator_length_km   = 400076\n",
    "equator_length_mile = equator_length_km * 0.623\n",
    "hour_need = equator_length_mile / plane_speed_hr\n",
    "print(\"飛機時速460英哩\")\n",
    "print(\"繞赤道一圈需要\", hour_need,\"小時\")\n",
    "print()\n",
    "#\n",
    "# minimum_plane_speed_hr * 24 = equator_length_mile\n",
    "# minimum_plane_speed_hr = equator_length_mile / 24\n",
    "#\n",
    "minimum_plane_speed_hr = equator_length_mile / 24\n",
    "print('飛機最低時速', int(minimum_plane_speed_hr)+1, \"英哩\")\n",
    "print(\"可在24小時內繞地球赤道一圈\")"
   ]
  },
  {
   "cell_type": "code",
   "execution_count": null,
   "id": "eb3cde81-6d53-4e69-b8df-6a3ae934bc94",
   "metadata": {},
   "outputs": [],
   "source": []
  }
 ],
 "metadata": {
  "kernelspec": {
   "display_name": "Python 3 (ipykernel)",
   "language": "python",
   "name": "python3"
  },
  "language_info": {
   "codemirror_mode": {
    "name": "ipython",
    "version": 3
   },
   "file_extension": ".py",
   "mimetype": "text/x-python",
   "name": "python",
   "nbconvert_exporter": "python",
   "pygments_lexer": "ipython3",
   "version": "3.7.10"
  }
 },
 "nbformat": 4,
 "nbformat_minor": 5
}

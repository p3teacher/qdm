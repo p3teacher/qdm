{
 "cells": [
  {
   "cell_type": "code",
   "execution_count": null,
   "id": "69cee218-aaf2-47d0-a84a-aeb96989b32c",
   "metadata": {},
   "outputs": [],
   "source": [
    "作業一: 請寫一程式繪出下列圖形?\n",
    "*\n",
    "**\n",
    "***\n",
    "****\n",
    "*****"
   ]
  },
  {
   "cell_type": "code",
   "execution_count": null,
   "id": "ad295740-b0b0-4ef2-a110-4848d9228743",
   "metadata": {
    "tags": []
   },
   "outputs": [],
   "source": [
    "作業二: 請寫一程式繪出下列圖形?\n",
    "1\n",
    "22\n",
    "333\n",
    "4444\n",
    "55555"
   ]
  },
  {
   "cell_type": "markdown",
   "id": "cec34851-616c-4a92-8ee1-ab0aa464bed8",
   "metadata": {
    "tags": []
   },
   "source": [
    "作業三: 如果a，b和c是三角形的三個邊，請計算三角形的面積。 請上傳寫好的 .py 程式\n",
    "\n",
    "請參考海龍公式: 設∆ABC 的三邊長分別為 a, b, c，且 s = (a + b + c)/2，\n",
    "\n",
    "則∆ABC的面積 = $\\sqrt{(s - a)(s - b)(s - c)}$"
   ]
  },
  {
   "cell_type": "code",
   "execution_count": null,
   "id": "08c66d00-209f-4ba9-a221-29bc7110ea0a",
   "metadata": {},
   "outputs": [],
   "source": []
  },
  {
   "cell_type": "markdown",
   "id": "429eb640-d4cc-4a19-a945-a0a06c36746e",
   "metadata": {},
   "source": [
    "作業四:\n",
    "方程式 $𝑎𝑥^2+𝑏𝑥+𝑐=0$ \n",
    "\n",
    "其中 a，b和c是實數 a≠0 求 x 的二個根，各為多少? \n",
    "\n",
    "請上傳寫好的 .py 程式"
   ]
  },
  {
   "cell_type": "code",
   "execution_count": null,
   "id": "5694a40a-ecbb-425d-9733-96f4077a3d84",
   "metadata": {},
   "outputs": [],
   "source": [
    "作業五: 溫度轉換\n",
    "\n",
    "請將攝氏溫度轉換為華氏溫度。\n",
    "請將華氏溫度轉換為攝氏溫度。\n",
    "公式：\n",
    "攝氏* 1.8 = 華氏度-32\n",
    "(請上傳寫好的 .py 程式)"
   ]
  },
  {
   "cell_type": "markdown",
   "id": "9c10a003-8f3f-4e6b-9543-cfda7c62e5a1",
   "metadata": {},
   "source": [
    "作業六: 請寫一程式印出九九乘法表\n",
    "\n",
    "輸出:( 輸出圖形見下圖)\n",
    "\n",
    "![九九乘法表](9x9.jpg)"
   ]
  },
  {
   "cell_type": "code",
   "execution_count": null,
   "id": "efa779ba-eee5-4645-82ac-bb07935d0cca",
   "metadata": {},
   "outputs": [],
   "source": [
    "作業七:請寫一程式印出印出1000以內的費式數列\n",
    "(請上傳寫好的 .py 程式)\n",
    "輸出:\n",
    "0 1 1 2 3 5 8 13 21 34 55 89 144 233 377 610 987"
   ]
  },
  {
   "cell_type": "code",
   "execution_count": null,
   "id": "c3baf505-a5f4-4277-9b40-1589e3964f41",
   "metadata": {},
   "outputs": [],
   "source": [
    "作業八:猜數字遊戲\n",
    "(請上傳寫好的 .py 程式)\n",
    "請寫一程式進行猜數字遊戲，被猜的數字由亂數產生 1~100 的數，\n",
    "如果太大就印出太大，如果太小，就印出太小，繼續再猜數字，直到猜對為止，並印出猜了幾次。\n",
    "每猜對猜完一次，要問遊戲者要不要繼續猜，如果要繼續玩就按 Y，不要就按 N，將程式修正得更為完美。"
   ]
  },
  {
   "cell_type": "code",
   "execution_count": null,
   "id": "8a80ca37-9893-4df6-9d5a-ce3c35f23cb7",
   "metadata": {},
   "outputs": [],
   "source": [
    "作業九: 兩個數求這兩個數的最大公因數 GCD\n",
    "輸入兩個數求這兩個數的最大公因數 GCD\n",
    "\n",
    "輸入:\n",
    "x=12 \n",
    "y=18\n",
    "\n",
    "輸出:\n",
    "GCD= 6"
   ]
  },
  {
   "cell_type": "code",
   "execution_count": null,
   "id": "93638c53-9ccd-4caf-a73d-57763f2b02b0",
   "metadata": {},
   "outputs": [],
   "source": [
    "作業十: 寫一個程式能夠將十進制轉成二進制\n",
    "\n",
    "輸入:\n",
    "十進制=11\n",
    "\n",
    "輸出:\n",
    "二進制=1011"
   ]
  },
  {
   "cell_type": "code",
   "execution_count": null,
   "id": "20253a17-26a9-4101-b03a-d065ffadb26c",
   "metadata": {},
   "outputs": [],
   "source": [
    "作業十二: 字元串列處理\n",
    "\n",
    "請建立一程式，在輸入一個字串後，將字元串列中索引為奇數的字元抽出來另建立一個新字串，最後顯示字串內容\n",
    "\n",
    "原字串\"jerome\"\n",
    "新字串為\"eoe\""
   ]
  },
  {
   "cell_type": "code",
   "execution_count": null,
   "id": "808dd24d-d84c-42ef-a21b-b98aa271fd03",
   "metadata": {},
   "outputs": [],
   "source": [
    "作業十三: 自訂函數 \n",
    "\n",
    "請建立arrayMax(n)函數傳入整數陣列，要用自訂函數 def arrayMax(n) ，傳回值是陣列元素的最大值，\n",
    "\n",
    "程式可以讓使用者輸入5個範圍1~100的數字，在存入陣列後，找到陣列的最大值。"
   ]
  }
 ],
 "metadata": {
  "kernelspec": {
   "display_name": "Python 3 (ipykernel)",
   "language": "python",
   "name": "python3"
  },
  "language_info": {
   "codemirror_mode": {
    "name": "ipython",
    "version": 3
   },
   "file_extension": ".py",
   "mimetype": "text/x-python",
   "name": "python",
   "nbconvert_exporter": "python",
   "pygments_lexer": "ipython3",
   "version": "3.7.10"
  }
 },
 "nbformat": 4,
 "nbformat_minor": 5
}

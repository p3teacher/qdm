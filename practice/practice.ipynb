{
 "cells": [
  {
   "cell_type": "code",
   "execution_count": null,
   "id": "a620cbd5-ddb7-4410-9ffc-1979c94aeabf",
   "metadata": {},
   "outputs": [],
   "source": [
    "# (練習: 1-1)\n",
    "print('hello world')\n",
    "a=6\n",
    "b=5\n",
    "print(a)\n",
    "print(b)\n",
    "type(a)      # 印出 a 的類別"
   ]
  },
  {
   "cell_type": "code",
   "execution_count": null,
   "id": "e349c06b-af49-48e8-b9c5-095767f7cb31",
   "metadata": {},
   "outputs": [],
   "source": [
    "# (練習: 1-2)\n",
    "a=6\n",
    "b=5\n",
    "c='123'\n",
    "d='ABC'\n",
    "print(c)\n",
    "print(d)\n",
    "print(a+b)\n",
    "print(a-b)\n",
    "print(a*b)\n",
    "print(a/b)\n",
    "print(a%b)        # 餘數\n",
    "print(a//b)       # 商 (整數)\n",
    "print(a+int(c))   # c  從字串轉整數 \n",
    "print(c+d)        # 字串 相加\n",
    "print(c+str(a))   # a  從整數轉字串\n",
    "type(c)           # 印出 c 的類別"
   ]
  },
  {
   "cell_type": "code",
   "execution_count": null,
   "id": "b0b7295f-3ee8-470c-87be-88c6efddf2d1",
   "metadata": {},
   "outputs": [],
   "source": [
    "# (練習: 1-3).\n",
    "c=6.4\n",
    "type ( c )        # 印出 c 的類別"
   ]
  },
  {
   "cell_type": "code",
   "execution_count": null,
   "id": "fc038ac2-b3a8-458b-a303-1dc5608677ee",
   "metadata": {},
   "outputs": [],
   "source": [
    "# (練習: 1-4).\n",
    "d=True\n",
    "e=False\n",
    "print( d and e)    # and 邏輯運算 \n",
    "print( d or e)     # or 邏輯運算\n",
    "print( not d)      # not 邏輯運算\n",
    "type ( d)          # 印出 d 的類別"
   ]
  },
  {
   "cell_type": "code",
   "execution_count": null,
   "id": "d8360bcf-67c6-4f83-b340-b809ca8669ed",
   "metadata": {},
   "outputs": [],
   "source": [
    "# (練習: 1-5).\n",
    "a=3\n",
    "b=2\n",
    "print(a+b)\n",
    "print(a-b)\n",
    "print(a*b)\n",
    "print(a/b)      # 數學除法\n",
    "print(a//b)     # 無條件捨去除法\n",
    "print(a**b)\n",
    "print(a**b)     # a的b次方(不能大寫)"
   ]
  },
  {
   "cell_type": "code",
   "execution_count": null,
   "id": "a501e5ea-0e7b-4876-ad97-60b4b59344ca",
   "metadata": {},
   "outputs": [],
   "source": [
    "# (練習: 1-6)\n",
    "c=2+3j\n",
    "type ( c )      # 印出c 的類別"
   ]
  },
  {
   "cell_type": "code",
   "execution_count": null,
   "id": "6c6c58f6-8c8a-446f-9243-99789a1f9e88",
   "metadata": {},
   "outputs": [],
   "source": [
    "# (練習: 1-7)\n",
    "a=3\n",
    "c=6.4\n",
    "d='123'\n",
    "e= True\n",
    "type(a)        # 印出 a 的類別\n",
    "type(c)        # 印出 c 的類別\n",
    "type(d)        # 印出 d 的類別\n",
    "type(e)        # 印出 d 的類別"
   ]
  },
  {
   "cell_type": "code",
   "execution_count": null,
   "id": "c35c326f-302c-433b-9feb-7b4fbd5ea54f",
   "metadata": {},
   "outputs": [],
   "source": [
    "# (練習: 1-8)  要整組五行拷貝一起執行\n",
    "e = True\n",
    "if e :\n",
    "    print(' e is Ture')\n",
    "if ( e ) :\n",
    "    print(' e 是真')"
   ]
  },
  {
   "cell_type": "code",
   "execution_count": null,
   "id": "9426e3af-4e6a-43da-948f-0993e08b2603",
   "metadata": {},
   "outputs": [],
   "source": [
    "# (練習: 1-9)\n",
    "a=-5\n",
    "b=6 \n",
    "print(abs(a))    #a 的絕對值    \n",
    "print(max(a, b)) # a,b的最大值\n",
    "print(min(a,b))  # a,b的最小值"
   ]
  },
  {
   "cell_type": "code",
   "execution_count": null,
   "id": "08ea6386-b612-4a52-b70d-aa6ceea18ce6",
   "metadata": {},
   "outputs": [],
   "source": [
    "# (練習: 1-10)\n",
    "a=123\n",
    "b= '456'\n",
    "print(a+b)  #變數型態不同 會出現錯誤"
   ]
  },
  {
   "cell_type": "code",
   "execution_count": null,
   "id": "4c370fed-688b-4afa-9aa7-be3a02b737a8",
   "metadata": {},
   "outputs": [],
   "source": [
    "# (練習: 1-11)\n",
    "a=123\n",
    "b= '456'\n",
    "print(a+int(b))     # 類別轉換\n",
    "print(str(a)+b)"
   ]
  },
  {
   "cell_type": "code",
   "execution_count": null,
   "id": "e68f3da1-c265-4e0e-bca1-4859d72c9a8d",
   "metadata": {},
   "outputs": [],
   "source": [
    "# (練習: 1-12).\n",
    "for i in range(0,10,2):  # 迴圈\n",
    "    print(i)      # 印出後下跳一行"
   ]
  },
  {
   "cell_type": "code",
   "execution_count": null,
   "id": "8a8e5f7a-eeff-4290-8cee-c0db4c784a48",
   "metadata": {},
   "outputs": [],
   "source": [
    "# (練習: 1-13)\n",
    "for j in range(0,10,-3):  \n",
    "    print(j)   # 0-3=-3 已經小於終值 10"
   ]
  },
  {
   "cell_type": "code",
   "execution_count": null,
   "id": "268e4f7f-8648-4021-a716-38e3d5c5193c",
   "metadata": {},
   "outputs": [],
   "source": [
    "# (練習: 1-14)\n",
    "for j in range(1,10,2):  # 迴圈\n",
    "    print(j,end='')    #不跳行跟著印"
   ]
  },
  {
   "cell_type": "code",
   "execution_count": null,
   "id": "bcd45889-f562-444b-a2e7-1603e137bbba",
   "metadata": {},
   "outputs": [],
   "source": [
    "# (練習: 1-15)\n",
    "for j in range(10,1,-3):    # 迴圈\n",
    "    print(j)"
   ]
  }
 ],
 "metadata": {
  "kernelspec": {
   "display_name": "Python 3 (ipykernel)",
   "language": "python",
   "name": "python3"
  },
  "language_info": {
   "codemirror_mode": {
    "name": "ipython",
    "version": 3
   },
   "file_extension": ".py",
   "mimetype": "text/x-python",
   "name": "python",
   "nbconvert_exporter": "python",
   "pygments_lexer": "ipython3",
   "version": "3.7.10"
  }
 },
 "nbformat": 4,
 "nbformat_minor": 5
}
